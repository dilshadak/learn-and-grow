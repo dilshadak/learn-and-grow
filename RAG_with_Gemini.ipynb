{
 "cells": [
  {
   "cell_type": "code",
   "execution_count": 1,
   "id": "124fb11b",
   "metadata": {},
   "outputs": [],
   "source": [
    "import os\n",
    "import json\n",
    "import numpy as np\n",
    "from langchain.vectorstores import FAISS\n",
    "from langchain.embeddings import HuggingFaceEmbeddings\n",
    "from langchain.schema import Document\n",
    "\n",
    "from geminiAPI import geminAPI"
   ]
  },
  {
   "cell_type": "code",
   "execution_count": 3,
   "id": "430a6026",
   "metadata": {},
   "outputs": [
    {
     "name": "stderr",
     "output_type": "stream",
     "text": [
      "C:\\Users\\dilshad\\AppData\\Local\\Temp\\ipykernel_15516\\2561981009.py:1: LangChainDeprecationWarning: The class `HuggingFaceEmbeddings` was deprecated in LangChain 0.2.2 and will be removed in 1.0. An updated version of the class exists in the :class:`~langchain-huggingface package and should be used instead. To use it run `pip install -U :class:`~langchain-huggingface` and import as `from :class:`~langchain_huggingface import HuggingFaceEmbeddings``.\n",
      "  embeddings = HuggingFaceEmbeddings(model_name=\"sentence-transformers/all-MiniLM-L6-v2\", model_kwargs={'device': 'cpu'})\n"
     ]
    }
   ],
   "source": [
    "embeddings = HuggingFaceEmbeddings(model_name=\"sentence-transformers/all-MiniLM-L6-v2\", model_kwargs={'device': 'cpu'})"
   ]
  },
  {
   "cell_type": "markdown",
   "id": "8780b9cd",
   "metadata": {},
   "source": [
    "# RAG (Retrival Augumented Generation)"
   ]
  },
  {
   "cell_type": "code",
   "execution_count": 5,
   "id": "caaa6a02",
   "metadata": {},
   "outputs": [],
   "source": [
    "from langchain.vectorstores import FAISS\n",
    "from geminiAPI import geminAPI\n",
    "vector_store = FAISS.load_local(\"faiss_index\", embeddings, allow_dangerous_deserialization=True)\n",
    "\n",
    "def rag(query, k=5):\n",
    "    \n",
    "    retrieved_docs_with_scores = vector_store.similarity_search_with_score(query, k=k)\n",
    "    text = '\\n'.join([t[0].page_content for t in retrieved_docs_with_scores])\n",
    "    file_names = list(set(t[0].metadata.get(\"file_path\", \"\") for t in retrieved_docs_with_scores))\n",
    "    print(f\"Files used: {file_names}\")\n",
    "    \n",
    "    prompt = f\"\"\"\n",
    "    Role: You are a helpful assistant. Answer the question based on the context provided.\n",
    "    Context: {text}\n",
    "    Question: {query}\n",
    "    \"\"\"\n",
    "    response = geminAPI(prompt)\n",
    "    return response"
   ]
  },
  {
   "cell_type": "markdown",
   "id": "6319673c",
   "metadata": {},
   "source": [
    "## Using RAG"
   ]
  },
  {
   "cell_type": "code",
   "execution_count": 9,
   "id": "b1b46c66",
   "metadata": {},
   "outputs": [
    {
     "name": "stdout",
     "output_type": "stream",
     "text": [
      "Files used: ['book\\\\jesc108.txt', 'book\\\\jesc107.txt']\n",
      "Question: What are the advantages of sexual reproduction over asexual reproduction?\n",
      "Response: Based on the context provided, the advantage of sexual reproduction over asexual reproduction is that sexual reproduction allows for greater variation to be generated.\n",
      "\n"
     ]
    }
   ],
   "source": [
    "question = \"What are the advantages of sexual reproduction over asexual reproduction?\"\n",
    "response = rag(question)\n",
    "print(f\"Question: {question}\\nResponse: {response}\")"
   ]
  },
  {
   "cell_type": "markdown",
   "id": "721fadae",
   "metadata": {},
   "source": [
    "# Word Embedding\n",
    "A way to represent words as a vector so that computers can make sense of the words"
   ]
  },
  {
   "cell_type": "markdown",
   "id": "f517f381",
   "metadata": {},
   "source": [
    "## Embeding Models\n",
    "NLP techniques to covert word into vectors\n"
   ]
  },
  {
   "cell_type": "markdown",
   "id": "2a46161f",
   "metadata": {},
   "source": [
    "### The binary representation of the word\n",
    "\n",
    "\"man\" is  : 01101101 01100001 01101110\n",
    "\n",
    "\"woman\" is: 01110111 01101111 01101101 01100001 01101110.\n",
    "\n",
    "For computers \"man\" and \"woman\" are two different strings"
   ]
  },
  {
   "cell_type": "code",
   "execution_count": 10,
   "id": "decbff8a",
   "metadata": {},
   "outputs": [
    {
     "data": {
      "text/plain": [
       "False"
      ]
     },
     "execution_count": 10,
     "metadata": {},
     "output_type": "execute_result"
    }
   ],
   "source": [
    "\"man\" == \"woman\""
   ]
  },
  {
   "cell_type": "markdown",
   "id": "3362bf13",
   "metadata": {},
   "source": [
    "## With vector representation\n",
    "Two words can be compared"
   ]
  },
  {
   "cell_type": "code",
   "execution_count": 19,
   "id": "9691ccc6",
   "metadata": {},
   "outputs": [
    {
     "name": "stdout",
     "output_type": "stream",
     "text": [
      "vector representation of 'man':\n",
      "[-0.10967574  0.04374195 -0.02631918 -0.02932645  0.02155485]\n",
      "\n",
      "vector representation of 'man':\n",
      "[-0.10967574  0.04374195 -0.02631918 -0.02932645  0.02155485]\n",
      "\n",
      "Cosine similarity between 'man' and 'man': 1.0\n",
      "384\n"
     ]
    }
   ],
   "source": [
    "# Example: get vector for two words and calculate cosine similarity\n",
    "word1 = \"man\"\n",
    "word2 = \"man\"\n",
    "vec1 = np.array(embeddings.embed_query(word1))\n",
    "vec2 = np.array(embeddings.embed_query(word2))\n",
    "\n",
    "# Compute cosine similarity\n",
    "cos_sim = np.dot(vec1, vec2) / (np.linalg.norm(vec1) * np.linalg.norm(vec2))\n",
    "\n",
    "print(f\"vector representation of '{word1}':\\n{vec1[:5]}\\n\")\n",
    "print(f\"vector representation of '{word2}':\\n{vec2[:5]}\\n\")\n",
    "\n",
    "print(f\"Cosine similarity between '{word1}' and '{word2}':\", cos_sim)\n",
    "print(len(vec1))"
   ]
  },
  {
   "cell_type": "markdown",
   "id": "032422c0",
   "metadata": {},
   "source": [
    "# Word to vectors"
   ]
  },
  {
   "cell_type": "markdown",
   "id": "bcf75a5d",
   "metadata": {},
   "source": [
    "## Cosine Similarity Calculation\n",
    "\n",
    "<svg width=\"300\" height=\"300\" viewBox=\"0 0 200 200\">\n",
    "  <!-- Axes -->\n",
    "  <line x1=\"0\" y1=\"100\" x2=\"200\" y2=\"100\" stroke=\"gray\" stroke-width=\"1\" marker-end=\"url(#arrow)\"/>\n",
    "  <line x1=\"100\" y1=\"200\" x2=\"100\" y2=\"0\" stroke=\"gray\" stroke-width=\"1\" marker-end=\"url(#arrow)\"/>\n",
    "\n",
    "  <!-- Vector v₁: (50, 25) -->\n",
    "  <line x1=\"100\" y1=\"100\" x2=\"150\" y2=\"75\" stroke=\"red\" stroke-width=\"2\" marker-end=\"url(#arrow)\"/>\n",
    "\n",
    "  <!-- Vector v₂: (25, 50) -->\n",
    "  <line x1=\"100\" y1=\"100\" x2=\"125\" y2=\"50\" stroke=\"blue\" stroke-width=\"2\" marker-end=\"url(#arrow)\"/>\n",
    "\n",
    "  <!-- Arrowhead definition -->\n",
    "  <defs>\n",
    "    <marker id=\"arrow\" markerWidth=\"10\" markerHeight=\"10\" refX=\"0\" refY=\"3\" orient=\"auto\"\n",
    "            markerUnits=\"strokeWidth\">\n",
    "      <path d=\"M0,0 L0,6 L9,3 z\" fill=\"black\" />\n",
    "    </marker>\n",
    "  </defs>\n",
    "\n",
    "  \n",
    "</svg>\n",
    "\n",
    "\n",
    "Let's take $\\vec{v}_1$ and $\\vec{v}_2$:\n",
    "\n",
    "The dot product of $\\vec{v}_1$ and $\\vec{v}_2$ is:\n",
    "$$\n",
    "\\vec{v}_1 \\cdot \\vec{v}_2 = \\sum_{i=1}^n v_{1,i} v_{2,i}\n",
    "$$\n",
    "\n",
    "The dot product can also be expressed in terms of the cosine of the angle $\\theta$ between the two vectors:\n",
    "$$\n",
    "\\vec{v}_1 \\cdot \\vec{v}_2 = \\|\\vec{v}_1\\| \\|\\vec{v}_2\\| \\cos\\theta\n",
    "$$\n",
    "The $cosine $ similarity between the two vectors\n",
    "$$\n",
    "\\text{cos\\_sim} = \\frac{\\vec{v}_1 \\cdot \\vec{v}_2}{\\|\\vec{v}_1\\| \\|\\vec{v}_2\\|}\n",
    "$$\n",
    "\n",
    "where $\\vec{v}_1 \\cdot \\vec{v}_2$ is the dot product, and $\\|\\vec{v}_1\\|$, $\\|\\vec{v}_2\\|$ are the Euclidean norms of the vectors. \n",
    "\n",
    "The Euclidean norm (or length) of a vector $\\vec{v}$ is calculated as:\n",
    "\n",
    "$$\n",
    "\\|\\vec{v}\\| = \\sqrt{v_1^2 + v_2^2 + \\cdots + v_n^2}\n",
    "$$\n",
    "\n",
    "### The result ranges from:\n",
    "- $-1$ $\\vec{v}_1$ and $\\vec{v}_2$ are opposite to each oter\n",
    "- $1$ $\\vec{v}_1$ and $\\vec{v}_2$ are identical to each other\n",
    "- $0$ indicating $\\vec{v}_1$ and $\\vec{v}_2$ are orthogonal (at $90^\\bullet$) to each other\n"
   ]
  },
  {
   "cell_type": "markdown",
   "id": "f517c071",
   "metadata": {},
   "source": [
    "# Embed documents\n",
    "### Collect data into list"
   ]
  },
  {
   "cell_type": "code",
   "execution_count": 21,
   "id": "16440935",
   "metadata": {},
   "outputs": [
    {
     "name": "stdout",
     "output_type": "stream",
     "text": [
      "['book\\\\jesc101.txt', 'book\\\\jesc102.txt', 'book\\\\jesc103.txt', 'book\\\\jesc104.txt', 'book\\\\jesc105.txt', 'book\\\\jesc106.txt', 'book\\\\jesc107.txt', 'book\\\\jesc108.txt', 'book\\\\jesc109.txt', 'book\\\\jesc110.txt', 'book\\\\jesc111.txt', 'book\\\\jesc112.txt', 'book\\\\jesc113.txt', 'book\\\\jesc1an.txt', 'book\\\\jesc1ps.txt']\n"
     ]
    }
   ],
   "source": [
    "folder_name = \"book\"\n",
    "\n",
    "file_list = [os.path.join(folder_name, f) for f in os.listdir(folder_name) if os.path.isfile(os.path.join(folder_name, f))]\n",
    "print(file_list)\n",
    "\n",
    "# chapter_details_file = 'Maths Class 10 Chapter Details.json'\n",
    "# with open(chapter_details_file, 'r') as f:\n",
    "#     chapter_details = json.load(f)\n",
    "\n",
    "documents_with_metadata = []\n",
    "for file in file_list:\n",
    "    \n",
    "    with open(file, 'r', encoding='utf8') as f:\n",
    "        content = f.read()\n",
    "    # Split content into chunks (e.g., 1000 characters with 200 overlap)\n",
    "    chunk_size = 2000\n",
    "    chunk_overlap = 200\n",
    "    chunks = [content[i:i+chunk_size] for i in range(0, len(content), chunk_size - chunk_overlap)]\n",
    "\n",
    "    for chunk in chunks:\n",
    "        doc = Document(\n",
    "            page_content=chunk,\n",
    "            metadata={\n",
    "                \"file_path\": file,\n",
    "            }\n",
    "        )\n",
    "        documents_with_metadata.append(doc)\n",
    "    "
   ]
  },
  {
   "cell_type": "markdown",
   "id": "c2a2a979",
   "metadata": {},
   "source": [
    "### Create embedding"
   ]
  },
  {
   "cell_type": "code",
   "execution_count": 22,
   "id": "ac54609e",
   "metadata": {},
   "outputs": [],
   "source": [
    "vector_store = FAISS.from_documents(documents_with_metadata, embeddings)\n",
    "vector_store.save_local(\"faiss_index\")"
   ]
  },
  {
   "cell_type": "markdown",
   "id": "38b0f34e",
   "metadata": {},
   "source": [
    "### How does this look like"
   ]
  },
  {
   "cell_type": "code",
   "execution_count": 23,
   "id": "5a97049f",
   "metadata": {},
   "outputs": [
    {
     "name": "stdout",
     "output_type": "stream",
     "text": [
      "Shape of vectors: (284, 384)\n",
      "First vector: 384 [-1.30706206e-02 -3.32267061e-02  4.71651778e-02  9.56698507e-02\n",
      "  7.65684769e-02  2.49516703e-02  4.57166471e-02 -7.65561871e-03\n",
      "  1.17983045e-02  2.69596484e-02  1.16835469e-02 -2.09506620e-02\n",
      " -6.20148564e-03 -8.95153452e-03 -1.56559777e-02 -2.14680582e-02\n",
      " -2.59503815e-02  5.37109934e-03 -7.11160302e-02  7.57401139e-02\n",
      "  6.56213537e-02 -6.49396777e-02  1.61241796e-02  3.80813852e-02\n",
      " -3.47737558e-02  6.63031489e-02  9.18284133e-02  4.23495620e-02\n",
      " -5.02698980e-02  2.05755830e-02  3.88805270e-02  1.12818234e-01\n",
      "  1.86516270e-02 -4.36741039e-02  3.26950438e-02  9.06238183e-02\n",
      " -3.49207707e-02  2.55973730e-02 -2.90852115e-02 -2.53039715e-03\n",
      " -7.08191022e-02 -6.88577890e-02  3.08742113e-02 -5.70027195e-02\n",
      "  7.66699985e-02 -5.78395426e-02  9.98084173e-02 -7.23517537e-02\n",
      " -2.28918251e-02  5.20388372e-02 -5.66026531e-02  3.04690208e-02\n",
      " -7.19665661e-02 -3.22357938e-02  5.22843488e-02 -2.61843242e-02\n",
      " -6.68237731e-03 -7.73008391e-02  6.64766459e-03 -1.75601356e-02\n",
      " -2.50968616e-02 -4.03132886e-02 -4.97991256e-02  2.33306028e-02\n",
      "  1.02957608e-02  7.77153298e-03  4.75666523e-02  2.74410322e-02\n",
      "  1.35955110e-01 -2.67270077e-02 -6.38400763e-02  5.99673130e-02\n",
      "  2.70011127e-02 -2.76757218e-02  2.12081540e-02 -3.82627882e-02\n",
      "  7.89241344e-02 -3.33987363e-02  9.33240354e-03 -8.84055905e-03\n",
      "  7.49603054e-03 -1.03910584e-02  3.38166729e-02 -4.03635502e-02\n",
      " -3.01384404e-02  7.96435960e-03  3.52963954e-02  7.19665214e-02\n",
      " -3.12467255e-02  2.05755839e-03  2.50852462e-02  4.80843671e-02\n",
      "  3.70152853e-02 -6.64316639e-02  2.84183882e-02  3.66796628e-02\n",
      " -1.28053278e-02  5.78097254e-02  1.06713466e-01  2.30717920e-02\n",
      "  2.05253698e-02  3.96240577e-02 -1.20972127e-01 -2.15256792e-02\n",
      "  8.58646408e-02 -7.38263084e-03 -3.16620916e-02  4.63162400e-02\n",
      "  1.71165597e-02  8.39671940e-02 -4.57166620e-02 -1.14343828e-03\n",
      "  2.00539976e-02  7.00217560e-02  5.20138294e-02 -2.81226579e-02\n",
      "  1.50465965e-02 -6.62731752e-02 -6.65621161e-02 -2.38796622e-02\n",
      "  2.55788136e-02  8.77400860e-03  5.81898820e-03 -4.32933345e-02\n",
      " -2.47653332e-02  2.54580211e-02  5.46877738e-03  5.23083194e-33\n",
      "  2.92769144e-03  8.28225724e-03  7.68929422e-02  3.26858438e-03\n",
      " -4.62329909e-02 -3.32636386e-02 -3.00776809e-02 -5.66814952e-02\n",
      "  8.73129442e-02  3.87319587e-02  4.57625724e-02  9.79447155e-04\n",
      " -5.01219518e-02  2.01874170e-02  3.64111736e-02  4.05215472e-02\n",
      " -1.26043558e-02 -4.39748820e-03  7.05328435e-02 -1.16060837e-03\n",
      " -1.33127436e-01  5.03928736e-02 -1.48828542e-02 -5.38694439e-03\n",
      " -3.45543958e-02  1.40075430e-01 -2.51909588e-02 -4.33336507e-04\n",
      " -7.06203133e-02 -2.97184289e-02  9.68525261e-02 -4.36403863e-02\n",
      " -1.12088315e-01 -1.24499556e-02  3.15765254e-02 -1.85920112e-02\n",
      "  6.20231545e-03  2.82309558e-02 -1.79009475e-02 -9.92218181e-02\n",
      " -5.37873656e-02  3.33681181e-02 -2.66962163e-02  6.28438443e-02\n",
      "  5.42865731e-02  3.81898438e-03 -1.48044890e-02  7.46933296e-02\n",
      "  3.15828435e-03 -5.16412267e-03 -1.77596640e-02 -4.19911444e-02\n",
      "  8.89324844e-02 -4.50183824e-02 -1.90892518e-02  5.76295033e-02\n",
      " -7.30554760e-02 -2.48369928e-02  5.07907756e-02  6.17957525e-02\n",
      "  8.01569410e-03  2.44640317e-02  4.36342582e-02  3.29055972e-02\n",
      " -7.68641848e-03  6.49532210e-03 -8.09728205e-02 -5.98721579e-02\n",
      " -1.41088590e-02  2.69512516e-02 -2.49478072e-02 -1.68819409e-02\n",
      "  6.39370317e-03 -9.97927785e-03 -3.38913389e-02 -3.41680157e-03\n",
      " -2.21393835e-02 -1.15824528e-01 -3.47532406e-02 -1.03547694e-02\n",
      "  7.76227936e-02 -2.09273286e-02 -1.01509569e-02 -5.44343218e-02\n",
      " -7.51722604e-02 -4.42528427e-02  1.59279478e-03 -9.42664593e-02\n",
      " -1.88979767e-02  5.15249856e-02  1.63051207e-02 -8.00455511e-02\n",
      "  2.86147669e-02  3.64231504e-02  5.11744060e-02 -7.74347647e-33\n",
      "  3.63118872e-02  1.69027317e-02 -1.99272931e-02  1.23896981e-02\n",
      " -6.63605556e-02 -1.53413927e-02 -7.47037157e-02 -3.67394760e-02\n",
      " -2.90922392e-02 -3.05445585e-02  5.70804579e-03  1.54304309e-02\n",
      " -1.66498590e-02 -6.93791434e-02 -8.29864144e-02  2.40819380e-02\n",
      "  9.49849933e-02  8.04702565e-02 -1.71369612e-02 -3.83769125e-02\n",
      " -7.91222230e-02  3.82205211e-02 -7.68279284e-02 -4.44366634e-02\n",
      "  1.23761306e-02  7.77107328e-02  7.37471581e-02 -8.71925876e-02\n",
      "  2.48686248e-03  2.62224767e-02 -6.08770223e-03 -2.88746655e-02\n",
      "  7.44369405e-04  1.59055702e-02  2.45643687e-02 -3.58431339e-02\n",
      "  4.77601811e-02 -6.52043968e-02  4.58399765e-02  4.26349342e-02\n",
      "  4.37110104e-02 -3.89900582e-04  4.41617221e-02  4.81437631e-02\n",
      "  3.26943882e-02 -4.41272184e-02 -2.29701567e-02  4.23746072e-02\n",
      "  2.81451773e-02  1.20185707e-02  9.09550264e-02 -3.16614360e-02\n",
      " -4.01832499e-02 -9.39861611e-02  1.13343418e-01  4.65102531e-02\n",
      "  1.81711577e-02 -1.29080012e-01 -3.35198604e-02  3.36678587e-02\n",
      "  7.75361285e-02 -1.09640375e-01  3.12456079e-02  1.31570362e-02\n",
      " -5.79691157e-02  4.06584851e-02 -3.18737440e-02  5.41882217e-02\n",
      "  2.49201916e-02  2.34045982e-02  5.85455671e-02  3.86977345e-02\n",
      " -3.29818092e-02 -1.02002576e-01  8.46440271e-02 -1.45206563e-02\n",
      " -3.85322832e-02  2.34762598e-02 -4.42847684e-02  4.99433279e-02\n",
      " -4.71908078e-02  2.90041212e-02 -6.33158349e-03 -8.48281458e-02\n",
      " -6.49101138e-02 -1.29585251e-01  3.33083905e-02  8.30498636e-02\n",
      " -3.00130527e-02 -7.61339962e-02 -5.26905432e-02 -3.85401659e-02\n",
      " -4.70627137e-02  1.56910177e-02 -5.97722866e-02 -5.55598341e-08\n",
      " -1.09787295e-02 -6.71464503e-02  1.05284967e-01 -1.38055943e-02\n",
      " -4.99242311e-03  5.20801321e-02  8.96858983e-03 -8.16717222e-02\n",
      " -2.98411064e-02  3.54027450e-02 -2.25521680e-02  8.12501013e-02\n",
      "  4.53475304e-02 -2.48679183e-02 -2.70747226e-02  1.13374777e-02\n",
      "  8.84264056e-03 -5.49662560e-02 -1.06608301e-01 -2.86305100e-02\n",
      "  3.19539867e-02 -7.40849376e-02 -6.35539740e-02  9.78497565e-02\n",
      "  1.99482255e-02 -6.63175434e-02 -1.80914847e-03  1.01818182e-01\n",
      " -1.11241648e-02  4.29536998e-02 -3.73089388e-02 -4.83082235e-02\n",
      " -8.40712041e-02 -1.96398273e-02  1.24491919e-02 -1.25542164e-01\n",
      "  7.14824498e-02 -6.36778101e-02 -5.58620952e-02 -2.52323151e-02\n",
      " -8.13362598e-02 -8.36677402e-02 -7.45805576e-02  2.85974145e-02\n",
      "  2.31272504e-02 -1.41395610e-02  1.53811481e-02  1.38776517e-02\n",
      " -4.93949950e-02  9.82293710e-02  2.88501717e-02 -3.29244398e-02\n",
      " -7.59056816e-03  1.48328859e-02  4.33517341e-03  7.69757405e-02\n",
      "  7.37066148e-03  4.89105508e-02  5.88316433e-02 -5.17934002e-02\n",
      "  2.66448203e-02  1.42575204e-02 -6.97001070e-02 -2.98935398e-02]\n"
     ]
    }
   ],
   "source": [
    "import numpy as np\n",
    "\n",
    "# Get the FAISS index from the vector_store\n",
    "faiss_index = vector_store.index\n",
    "\n",
    "# Get all vectors as a NumPy array\n",
    "vectors = faiss_index.reconstruct_n(0, faiss_index.ntotal)\n",
    "\n",
    "print(\"Shape of vectors:\", vectors.shape)\n",
    "print(\"First vector:\", len(vectors[0]), vectors[0])"
   ]
  },
  {
   "cell_type": "markdown",
   "id": "eb1c9c85",
   "metadata": {},
   "source": [
    "### Using Embedding to retrieve related text"
   ]
  },
  {
   "cell_type": "code",
   "execution_count": 28,
   "id": "300975ac",
   "metadata": {},
   "outputs": [
    {
     "data": {
      "text/plain": [
       "[(Document(id='ad8ea2a8-e359-4c55-b88f-d67633f922cf', metadata={'file_path': 'book\\\\jesc111.txt'}, page_content=' and (iii) on the nature of its material. Precise measurements\\nhave shown that resistance of a uniform metallic conductor is directly\\nproportional to its length (l ) and inversely proportional to the area of\\ncross-section ( A). That is,\\nR ∝ l (11.8)\\nand R ∝ 1/A (11.9)\\nCombining Eqs. (11.8) and (11.9) we get\\nR ∝ l\\nA\\nor, R = ρl\\nA(11.10)\\nwhere ρ (rho) is a constant of proportionality and is called the electrical\\nresistivity of the material of the conductor . The SI unit of resistivity is\\nΩ m. It is a characteristic property of the material. The metals and alloysFigure 11.5 Figure 11.5 Figure 11.5 Figure 11.5 Figure 11.5 Electric circuit to study the factors on which the  resistance of conducting wires depends\\n/square6Now, plug the key. Note the curr ent in the ammeter .\\n/square6Replace the nichrome wire by another nichrome wire of same thickness but twice the\\nlength, that is 2 l [marked (2) in the Fig. 11.5].\\n/square6Note the ammeter reading.\\n/square6Now replace the wire by a thicker nichrome wire, of the same length l [marked (3)]. A\\nthicker wire has a larger cross-sectional area. Again note down the current through the\\ncircuit.\\n/square6Instead of taking a nichrome wire, connect a copper wire [marked (4) in Fig. 11.5] in the\\ncircuit. Let the wire be of the same length and same area of cross-section as that of the\\nfirst nichrome wire [marked (1)]. Note the value of the current.\\n/square6Notice the difference in the current in all cases.\\n/square6Does the current depend on the length of the conductor?\\n/square6Does the current depend on the area of cross-section of the wire used?\\nReprint 2025-26\\nElectricity 179have very low resistivity in the  range of 10–8 Ω m to  10–6 Ω m. They are\\ngood conductors of electricity. Insulators like rubber and glass have\\nresistivity of the order of 1012 to 1017 Ω m. Both the resistance and\\nresistivity of a material vary with temperature.\\nTable 11.2 reveals that the resistivity of an alloy is generally higher\\nthan that of its constituent meta'),\n",
       "  1.1299678),\n",
       " (Document(id='6926848d-be47-4e0f-ab63-780ceaad88e6', metadata={'file_path': 'book\\\\jesc103.txt'}, page_content='ors of heat.\\nDo metals also conduct electricity? Let us find out.Figure 3.1Figure 3.1Figure 3.1Figure 3.1Figure 3.1\\nMetals are good\\nconductors of heat.\\nReprint 2025-26\\nMetals and Non-metals 39You must have seen that the wir es that carry curr ent\\nin your homes have a coating of polyvinylchloride (PVC)\\nor a rubber -like material. Why ar e electric wir es coated\\nwith such substances?\\nWhat happens when metals strike a hard surface? Do they produce\\na sound? The metals that produce a sound on striking a hard surface\\nare said to be sonorous. Can you now say why school bells are made of\\nmetals?\\n3.1.2 Non-metals\\nIn the previous Class you have learnt that there are very few non-metals\\nas compared to metals. Some of the examples of non-metals are carbon,\\nsulphur , iodine, oxygen, hydr ogen, etc. The non-metals ar e either  solids\\nor gases except bromine which is a liquid.\\nDo non-metals also have physical properties similar to that of metals?\\nLet us find out.Activity 3.6Activity 3.6Activity 3.6Activity 3.6Activity 3.6\\n/square6Set up an electric circuit as shown in Fig. 3.2.\\n/square6Place the metal to be tested in the circuit\\nbetween terminals A and B as shown.\\n/square6Does the bulb glow? What does this indicate?\\nFigure 3.2Figure 3.2Figure 3.2Figure 3.2Figure 3.2\\nMetals are good\\nconductors of electricity.\\nActivity 3.7Activity 3.7Activity 3.7Activity 3.7Activity 3.7\\n/square6Collect samples of carbon (coal or graphite), sulphur and iodine.\\n/square6Carry out the Activities 3.1 to 3.4 and 3.6 with these non-metals\\nand record your observations.\\nCompile your observations regarding metals and non-metals in Table 3.1.\\nTable 3.1\\nElement Symbol Type of Hardness Malleability Ductility Conducts Sonority\\nsurface Electricity\\nOn the bases of the observations recorded in Table 3.1, discuss the\\ngeneral physical properties of metals and non-metals in the class. Y ou\\nmust have concluded that we cannot group elements according to their\\nphysical properties alone, as there are many exceptions. For e'),\n",
       "  1.1792755),\n",
       " (Document(id='f521d994-e61d-42d4-8dd4-13e5a2c514ac', metadata={'file_path': 'book\\\\jesc111.txt'}, page_content='o ends of the component\\ndecreases to half of its former value. What\\nchange will occur in the current through it?\\n4. Why are coils of electric toasters and electric\\nirons made of an alloy rather than a pure\\nmetal?\\n5. Use the data in Table 11.2 to answer the\\nfollowing –\\n(a)Which among iron and mercury is a better\\nconductor?\\n(b)Which material is the best conductor?\\n11.6 RESIST11.6 RESIST11.6 RESIST11.6 RESIST11.6 RESIST ANCE OF A SYSTEM OF RESISTORSANCE OF A SYSTEM OF RESISTORSANCE OF A SYSTEM OF RESISTORSANCE OF A SYSTEM OF RESISTORSANCE OF A SYSTEM OF RESISTORS\\nIn preceding sections, we lear nt about some simple electric cir cuits. W e\\nhave noticed how the current through a conductor depends upon its\\nresistance and the potential difference across its ends. In various electrical\\ngadgets, we often use resistors in various combinations. W e now ther efore\\nintend to see how Ohm’s law can be applied to combinations of resistors.\\nThere ar e two methods of joining the r esistors together . Figur e 11.6\\nshows an electric circuit in which three resistors having resistances R1,\\nR2 and R3, respectively, are joined end to end. Here the resistors are said\\nto be connected in series.\\nFigure 11.6Figure 11.6Figure 11.6Figure 11.6Figure 11.6  Resistors in series\\nReprint 2025-26\\nScience 182Figure 11.7Figure 11.7Figure 11.7Figure 11.7Figure 11.7  Resistors in parallel\\nYou will observe that the value of the current in the ammeter is the\\nsame, independent of its position in the electric circuit. It means that in\\na series combination of resistors the current is the same in every part of\\nthe cir cuit or the same curr ent thr ough each r esistor .Activity 11.4Activity 11.4Activity 11.4Activity 11.4Activity 11.4\\n/square6Join three resistors of different values in series. Connect them\\nwith a battery, an ammeter and a plug key, as shown in Fig. 11.6.\\nYou may use the r esistors of values like 1 Ω, 2 Ω, 3 Ω etc., and a\\nbattery of 6 V for performing this Activity.\\n/square6Plug the key. Note the am'),\n",
       "  1.181417),\n",
       " (Document(id='6808d6da-ed7c-4d56-8b50-6613365b3253', metadata={'file_path': 'book\\\\jesc111.txt'}, page_content=' of 1012 to 1017 Ω m. Both the resistance and\\nresistivity of a material vary with temperature.\\nTable 11.2 reveals that the resistivity of an alloy is generally higher\\nthan that of its constituent metals. Alloys do not oxidise (burn) readily\\nat high temperatures. For this reason, they are commonly used in\\nelectrical heating devices, like electric iron, toasters etc. Tungsten is used\\nalmost exclusively for filaments of electric bulbs, whereas copper and\\naluminium are generally used for electrical transmission lines.\\nTable 11.2  Electrical resistivity*  of some substances at 20°C\\nMaterial Resistivity ( Ω ΩΩΩΩ m)\\nConductors Silver 1.60 × 10–8\\nCopper 1.62 × 10–8\\nAluminium 2.63 × 10–8\\nTungsten 5.20 × 10–8\\nNickel 6.84 × 10–8\\nIron 10.0 × 10–8\\nChromium 12.9 × 10–8\\nMercury 94.0 × 10–8\\nManganese 1.84 × 10–6\\nAlloys Constantan 49 × 10–6\\n(alloy of Cu and Ni)\\nManganin 44 × 10–6\\n(alloy of Cu, Mn and Ni)\\nNichrome 100 × 10–6\\n(alloy of Ni, Cr\\n, Mn and Fe)\\nInsulators Glass 1010 – 1014\\nHard rubber 1013 – 1016\\nEbonite 1015 – 1017\\nDiamond 1012 - 1013\\nPaper (dry) 1012\\n* You need not memorise these values. Y ou can use these values for solving numerical\\nproblems.\\nExample 11.3\\n(a)How much current will an electric bulb draw from a 220 V source,\\nif the resistance of the bulb filament is 1200 Ω ? (b) How much\\ncurrent will an electric heater coil draw from a 220 V source, if\\nthe resistance of the heater coil is 100 Ω?\\nSolution\\n(a)We are given V = 220 V ; R = 1200 Ω.\\nFrom Eq. (12.6), we have the current I = 220 V/1200 Ω = 0.18 A.\\n(b)We are given, V = 220 V , R = 100 Ω.\\nFrom Eq. (11.6), we have the current I  = 220 V/100 Ω = 2.2 A.\\nNote the difference of current drawn by an electric bulb and electric\\nheater from the same 220 V source!\\nReprint 2025-26\\nScience 180Example 11.4\\nThe potential difference between the terminals of an electric heater\\nis 60 V when it draws a current of 4 A from the source. What current\\nwill the heater draw if the potential difference is increased to 120 V?\\nSolution\\nWe are g'),\n",
       "  1.2137909),\n",
       " (Document(id='4531a24b-414f-41fa-acb6-70639b4d32b2', metadata={'file_path': 'book\\\\jesc111.txt'}, page_content='Electricity11 CHAPTER\\nElectricity has an important place in modern society. It is a controllable\\nand convenient form of energy for a variety of uses in homes, schools,\\nhospitals, industries and so on. What constitutes electricity? How does\\nit flow in an electric circuit? What are the factors that control or regulate\\nthe curr ent thr ough an electric cir cuit? In this Chapter , we shall attempt\\nto answer such questions. W e shall also discuss the heating ef fect of\\nelectric current and its applications.\\n11.1 ELECTRIC CURRENT AND CIRCUIT11.1 ELECTRIC CURRENT AND CIRCUIT11.1 ELECTRIC CURRENT AND CIRCUIT11.1 ELECTRIC CURRENT AND CIRCUIT11.1 ELECTRIC CURRENT AND CIRCUIT\\nWe are familiar with air curr ent and water curr ent. W e know that flowing\\nwater constitute water current in rivers. Similarly, if the electric charge\\nflows through a conductor (for example, through a metallic wire), we\\nsay that ther e is an electric curr ent in the conductor . In a tor ch, we\\nknow that the cells (or a battery, when placed in proper order) provide\\nflow of char ges or an electric curr ent thr ough the tor ch bulb to glow. W e\\nhave also seen that the torch gives light only when its switch is on. What\\ndoes a switch do? A switch makes a conducting link between the cell and\\nthe bulb. A continuous and closed path of an electric current is called an\\nelectric circuit. Now, if the circuit is broken anywhere (or the switch of the\\ntorch is turned off), the current stops flowing and the bulb does not glow.\\nHow do we express electric current? Electric current is expressed by\\nthe amount of charge flowing through a particular area in unit time. In\\nother words, it is the rate of flow of electric charges. In circuits using\\nmetallic wir es, electr ons constitute the flow of char ges. However , electr ons\\nwere not known at the time when the phenomenon of electricity was first\\nobserved. So, electric current was considered to be the flow of positive\\ncharges and the direction of flow of positive charges was t'),\n",
       "  1.2304548)]"
      ]
     },
     "execution_count": 28,
     "metadata": {},
     "output_type": "execute_result"
    }
   ],
   "source": [
    "query = \"What is the difference between conductors and insulators?\"\n",
    "retrieved_docs = vector_store.similarity_search_with_score(query, k=5)\n",
    "retrieved_docs"
   ]
  },
  {
   "cell_type": "markdown",
   "id": "0dcb7713",
   "metadata": {},
   "source": [
    "### Collect retrieved text"
   ]
  },
  {
   "cell_type": "code",
   "execution_count": 29,
   "id": "8c2deea6",
   "metadata": {},
   "outputs": [
    {
     "data": {
      "text/plain": [
       "' and (iii) on the nature of its material. Precise measurements\\nhave shown that resistance of a uniform metallic conductor is directly\\nproportional to its length (l ) and inversely proportional to the area of\\ncross-section ( A). That is,\\nR ∝ l (11.8)\\nand R ∝ 1/A (11.9)\\nCombining Eqs. (11.8) and (11.9) we get\\nR ∝ l\\nA\\nor, R = ρl\\nA(11.10)\\nwhere ρ (rho) is a constant of proportionality and is called the electrical\\nresistivity of the material of the conductor . The SI unit of resistivity is\\nΩ m. It is a characteristic property of the material. The metals and alloysFigure 11.5 Figure 11.5 Figure 11.5 Figure 11.5 Figure 11.5 Electric circuit to study the factors on which the  resistance of conducting wires depends\\n/square6Now, plug the key. Note the curr ent in the ammeter .\\n/square6Replace the nichrome wire by another nichrome wire of same thickness but twice the\\nlength, that is 2 l [marked (2) in the Fig. 11.5].\\n/square6Note the ammeter reading.\\n/square6Now replace the wire by a thicker nichrome wire, of the same length l [marked (3)]. A\\nthicker wire has a larger cross-sectional area. Again note down the current through the\\ncircuit.\\n/square6Instead of taking a nichrome wire, connect a copper wire [marked (4) in Fig. 11.5] in the\\ncircuit. Let the wire be of the same length and same area of cross-section as that of the\\nfirst nichrome wire [marked (1)]. Note the value of the current.\\n/square6Notice the difference in the current in all cases.\\n/square6Does the current depend on the length of the conductor?\\n/square6Does the current depend on the area of cross-section of the wire used?\\nReprint 2025-26\\nElectricity 179have very low resistivity in the  range of 10–8 Ω m to  10–6 Ω m. They are\\ngood conductors of electricity. Insulators like rubber and glass have\\nresistivity of the order of 1012 to 1017 Ω m. Both the resistance and\\nresistivity of a material vary with temperature.\\nTable 11.2 reveals that the resistivity of an alloy is generally higher\\nthan that of its constituent meta\\nors of heat.\\nDo metals also conduct electricity? Let us find out.Figure 3.1Figure 3.1Figure 3.1Figure 3.1Figure 3.1\\nMetals are good\\nconductors of heat.\\nReprint 2025-26\\nMetals and Non-metals 39You must have seen that the wir es that carry curr ent\\nin your homes have a coating of polyvinylchloride (PVC)\\nor a rubber -like material. Why ar e electric wir es coated\\nwith such substances?\\nWhat happens when metals strike a hard surface? Do they produce\\na sound? The metals that produce a sound on striking a hard surface\\nare said to be sonorous. Can you now say why school bells are made of\\nmetals?\\n3.1.2 Non-metals\\nIn the previous Class you have learnt that there are very few non-metals\\nas compared to metals. Some of the examples of non-metals are carbon,\\nsulphur , iodine, oxygen, hydr ogen, etc. The non-metals ar e either  solids\\nor gases except bromine which is a liquid.\\nDo non-metals also have physical properties similar to that of metals?\\nLet us find out.Activity 3.6Activity 3.6Activity 3.6Activity 3.6Activity 3.6\\n/square6Set up an electric circuit as shown in Fig. 3.2.\\n/square6Place the metal to be tested in the circuit\\nbetween terminals A and B as shown.\\n/square6Does the bulb glow? What does this indicate?\\nFigure 3.2Figure 3.2Figure 3.2Figure 3.2Figure 3.2\\nMetals are good\\nconductors of electricity.\\nActivity 3.7Activity 3.7Activity 3.7Activity 3.7Activity 3.7\\n/square6Collect samples of carbon (coal or graphite), sulphur and iodine.\\n/square6Carry out the Activities 3.1 to 3.4 and 3.6 with these non-metals\\nand record your observations.\\nCompile your observations regarding metals and non-metals in Table 3.1.\\nTable 3.1\\nElement Symbol Type of Hardness Malleability Ductility Conducts Sonority\\nsurface Electricity\\nOn the bases of the observations recorded in Table 3.1, discuss the\\ngeneral physical properties of metals and non-metals in the class. Y ou\\nmust have concluded that we cannot group elements according to their\\nphysical properties alone, as there are many exceptions. For e'"
      ]
     },
     "execution_count": 29,
     "metadata": {},
     "output_type": "execute_result"
    }
   ],
   "source": [
    "text = '\\n'.join([t[0].page_content for t in retrieved_docs[0:2]])\n",
    "text"
   ]
  },
  {
   "cell_type": "markdown",
   "id": "bbf66a57",
   "metadata": {},
   "source": [
    "### Create prompt and ask LLM (Gemini)"
   ]
  },
  {
   "cell_type": "code",
   "execution_count": 30,
   "id": "eabf4d92",
   "metadata": {},
   "outputs": [
    {
     "data": {
      "text/plain": [
       "'Conductors have very low resistivity (in the range of 10–8 Ω m to 10–6 Ω m), while insulators have high resistivity (of the order of 1012 to 1017 Ω m).\\n'"
      ]
     },
     "execution_count": 30,
     "metadata": {},
     "output_type": "execute_result"
    }
   ],
   "source": [
    "prompt = f\"\"\"\n",
    "    Role: You are a helpful assistant. Answer the question based on the context provided.\n",
    "    Context: {text}\n",
    "    Question: {query}\"\"\"\n",
    "\n",
    "response = geminAPI(prompt)\n",
    "response"
   ]
  }
 ],
 "metadata": {
  "kernelspec": {
   "display_name": "nsenv",
   "language": "python",
   "name": "python3"
  },
  "language_info": {
   "codemirror_mode": {
    "name": "ipython",
    "version": 3
   },
   "file_extension": ".py",
   "mimetype": "text/x-python",
   "name": "python",
   "nbconvert_exporter": "python",
   "pygments_lexer": "ipython3",
   "version": "3.12.3"
  }
 },
 "nbformat": 4,
 "nbformat_minor": 5
}
